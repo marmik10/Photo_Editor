{
 "cells": [
  {
   "cell_type": "code",
   "execution_count": 1,
   "id": "555242c4",
   "metadata": {},
   "outputs": [],
   "source": [
    "# import the libraries as shown below\n",
    "\n",
    "from tensorflow.keras.layers import Input, Lambda, Dense, Flatten\n",
    "from tensorflow.keras.models import Model\n",
    "from tensorflow.keras.applications.resnet50 import ResNet50\n",
    "#from keras.applications.vgg16 import VGG16\n",
    "from tensorflow.keras.applications.resnet50 import preprocess_input\n",
    "from tensorflow.keras.preprocessing import image\n",
    "from tensorflow.keras.preprocessing.image import ImageDataGenerator,load_img\n",
    "from tensorflow.keras.models import Sequential\n",
    "import numpy as np\n",
    "from glob import glob\n",
    "import matplotlib.pyplot as plt"
   ]
  },
  {
   "cell_type": "code",
   "execution_count": 2,
   "id": "549fd452",
   "metadata": {},
   "outputs": [],
   "source": [
    "# re-size all the images to this\n",
    "IMAGE_SIZE = [224, 224]\n",
    "\n",
    "train_path = 'photo_data/train'\n",
    "valid_path = 'photo_data/test'"
   ]
  },
  {
   "cell_type": "code",
   "execution_count": 3,
   "id": "04caef9b",
   "metadata": {},
   "outputs": [],
   "source": [
    "# Import the Vgg 16 library as shown below and add preprocessing layer to the front of VGG\n",
    "# Here we will be using imagenet weights\n",
    "\n",
    "resnet = ResNet50(input_shape=IMAGE_SIZE + [3], weights='imagenet', include_top=False)"
   ]
  },
  {
   "cell_type": "code",
   "execution_count": 4,
   "id": "85b7fd29",
   "metadata": {},
   "outputs": [],
   "source": [
    "# don't train existing weights\n",
    "for layer in resnet.layers:\n",
    "    layer.trainable = False"
   ]
  },
  {
   "cell_type": "code",
   "execution_count": 5,
   "id": "f1ed9049",
   "metadata": {},
   "outputs": [],
   "source": [
    "# useful for getting number of output classes\n",
    "folders = glob('photo_data/train/*')"
   ]
  },
  {
   "cell_type": "code",
   "execution_count": 6,
   "id": "15bf9cc5",
   "metadata": {},
   "outputs": [],
   "source": [
    "# our layers - you can add more if you want\n",
    "x = Flatten()(resnet.output)"
   ]
  },
  {
   "cell_type": "code",
   "execution_count": 7,
   "id": "563723ed",
   "metadata": {},
   "outputs": [],
   "source": [
    "prediction = Dense(len(folders), activation='softmax')(x)\n",
    "\n",
    "#Making a model\n",
    "model = Model(inputs=resnet.input, outputs=prediction)"
   ]
  },
  {
   "cell_type": "code",
   "execution_count": 8,
   "id": "4041eabc",
   "metadata": {},
   "outputs": [
    {
     "name": "stdout",
     "output_type": "stream",
     "text": [
      "Model: \"model\"\n",
      "__________________________________________________________________________________________________\n",
      " Layer (type)                   Output Shape         Param #     Connected to                     \n",
      "==================================================================================================\n",
      " input_1 (InputLayer)           [(None, 224, 224, 3  0           []                               \n",
      "                                )]                                                                \n",
      "                                                                                                  \n",
      " conv1_pad (ZeroPadding2D)      (None, 230, 230, 3)  0           ['input_1[0][0]']                \n",
      "                                                                                                  \n",
      " conv1_conv (Conv2D)            (None, 112, 112, 64  9472        ['conv1_pad[0][0]']              \n",
      "                                )                                                                 \n",
      "                                                                                                  \n",
      " conv1_bn (BatchNormalization)  (None, 112, 112, 64  256         ['conv1_conv[0][0]']             \n",
      "                                )                                                                 \n",
      "                                                                                                  \n",
      " conv1_relu (Activation)        (None, 112, 112, 64  0           ['conv1_bn[0][0]']               \n",
      "                                )                                                                 \n",
      "                                                                                                  \n",
      " pool1_pad (ZeroPadding2D)      (None, 114, 114, 64  0           ['conv1_relu[0][0]']             \n",
      "                                )                                                                 \n",
      "                                                                                                  \n",
      " pool1_pool (MaxPooling2D)      (None, 56, 56, 64)   0           ['pool1_pad[0][0]']              \n",
      "                                                                                                  \n",
      " conv2_block1_1_conv (Conv2D)   (None, 56, 56, 64)   4160        ['pool1_pool[0][0]']             \n",
      "                                                                                                  \n",
      " conv2_block1_1_bn (BatchNormal  (None, 56, 56, 64)  256         ['conv2_block1_1_conv[0][0]']    \n",
      " ization)                                                                                         \n",
      "                                                                                                  \n",
      " conv2_block1_1_relu (Activatio  (None, 56, 56, 64)  0           ['conv2_block1_1_bn[0][0]']      \n",
      " n)                                                                                               \n",
      "                                                                                                  \n",
      " conv2_block1_2_conv (Conv2D)   (None, 56, 56, 64)   36928       ['conv2_block1_1_relu[0][0]']    \n",
      "                                                                                                  \n",
      " conv2_block1_2_bn (BatchNormal  (None, 56, 56, 64)  256         ['conv2_block1_2_conv[0][0]']    \n",
      " ization)                                                                                         \n",
      "                                                                                                  \n",
      " conv2_block1_2_relu (Activatio  (None, 56, 56, 64)  0           ['conv2_block1_2_bn[0][0]']      \n",
      " n)                                                                                               \n",
      "                                                                                                  \n",
      " conv2_block1_0_conv (Conv2D)   (None, 56, 56, 256)  16640       ['pool1_pool[0][0]']             \n",
      "                                                                                                  \n",
      " conv2_block1_3_conv (Conv2D)   (None, 56, 56, 256)  16640       ['conv2_block1_2_relu[0][0]']    \n",
      "                                                                                                  \n",
      " conv2_block1_0_bn (BatchNormal  (None, 56, 56, 256)  1024       ['conv2_block1_0_conv[0][0]']    \n",
      " ization)                                                                                         \n",
      "                                                                                                  \n",
      " conv2_block1_3_bn (BatchNormal  (None, 56, 56, 256)  1024       ['conv2_block1_3_conv[0][0]']    \n",
      " ization)                                                                                         \n",
      "                                                                                                  \n",
      " conv2_block1_add (Add)         (None, 56, 56, 256)  0           ['conv2_block1_0_bn[0][0]',      \n",
      "                                                                  'conv2_block1_3_bn[0][0]']      \n",
      "                                                                                                  \n",
      " conv2_block1_out (Activation)  (None, 56, 56, 256)  0           ['conv2_block1_add[0][0]']       \n",
      "                                                                                                  \n",
      " conv2_block2_1_conv (Conv2D)   (None, 56, 56, 64)   16448       ['conv2_block1_out[0][0]']       \n",
      "                                                                                                  \n",
      " conv2_block2_1_bn (BatchNormal  (None, 56, 56, 64)  256         ['conv2_block2_1_conv[0][0]']    \n",
      " ization)                                                                                         \n",
      "                                                                                                  \n",
      " conv2_block2_1_relu (Activatio  (None, 56, 56, 64)  0           ['conv2_block2_1_bn[0][0]']      \n",
      " n)                                                                                               \n",
      "                                                                                                  \n",
      " conv2_block2_2_conv (Conv2D)   (None, 56, 56, 64)   36928       ['conv2_block2_1_relu[0][0]']    \n",
      "                                                                                                  \n",
      " conv2_block2_2_bn (BatchNormal  (None, 56, 56, 64)  256         ['conv2_block2_2_conv[0][0]']    \n",
      " ization)                                                                                         \n",
      "                                                                                                  \n",
      " conv2_block2_2_relu (Activatio  (None, 56, 56, 64)  0           ['conv2_block2_2_bn[0][0]']      \n",
      " n)                                                                                               \n",
      "                                                                                                  \n",
      " conv2_block2_3_conv (Conv2D)   (None, 56, 56, 256)  16640       ['conv2_block2_2_relu[0][0]']    \n",
      "                                                                                                  \n",
      " conv2_block2_3_bn (BatchNormal  (None, 56, 56, 256)  1024       ['conv2_block2_3_conv[0][0]']    \n",
      " ization)                                                                                         \n",
      "                                                                                                  \n",
      " conv2_block2_add (Add)         (None, 56, 56, 256)  0           ['conv2_block1_out[0][0]',       \n",
      "                                                                  'conv2_block2_3_bn[0][0]']      \n",
      "                                                                                                  \n",
      " conv2_block2_out (Activation)  (None, 56, 56, 256)  0           ['conv2_block2_add[0][0]']       \n",
      "                                                                                                  \n",
      " conv2_block3_1_conv (Conv2D)   (None, 56, 56, 64)   16448       ['conv2_block2_out[0][0]']       \n",
      "                                                                                                  \n",
      " conv2_block3_1_bn (BatchNormal  (None, 56, 56, 64)  256         ['conv2_block3_1_conv[0][0]']    \n",
      " ization)                                                                                         \n"
     ]
    },
    {
     "name": "stdout",
     "output_type": "stream",
     "text": [
      "                                                                                                  \n",
      " conv2_block3_1_relu (Activatio  (None, 56, 56, 64)  0           ['conv2_block3_1_bn[0][0]']      \n",
      " n)                                                                                               \n",
      "                                                                                                  \n",
      " conv2_block3_2_conv (Conv2D)   (None, 56, 56, 64)   36928       ['conv2_block3_1_relu[0][0]']    \n",
      "                                                                                                  \n",
      " conv2_block3_2_bn (BatchNormal  (None, 56, 56, 64)  256         ['conv2_block3_2_conv[0][0]']    \n",
      " ization)                                                                                         \n",
      "                                                                                                  \n",
      " conv2_block3_2_relu (Activatio  (None, 56, 56, 64)  0           ['conv2_block3_2_bn[0][0]']      \n",
      " n)                                                                                               \n",
      "                                                                                                  \n",
      " conv2_block3_3_conv (Conv2D)   (None, 56, 56, 256)  16640       ['conv2_block3_2_relu[0][0]']    \n",
      "                                                                                                  \n",
      " conv2_block3_3_bn (BatchNormal  (None, 56, 56, 256)  1024       ['conv2_block3_3_conv[0][0]']    \n",
      " ization)                                                                                         \n",
      "                                                                                                  \n",
      " conv2_block3_add (Add)         (None, 56, 56, 256)  0           ['conv2_block2_out[0][0]',       \n",
      "                                                                  'conv2_block3_3_bn[0][0]']      \n",
      "                                                                                                  \n",
      " conv2_block3_out (Activation)  (None, 56, 56, 256)  0           ['conv2_block3_add[0][0]']       \n",
      "                                                                                                  \n",
      " conv3_block1_1_conv (Conv2D)   (None, 28, 28, 128)  32896       ['conv2_block3_out[0][0]']       \n",
      "                                                                                                  \n",
      " conv3_block1_1_bn (BatchNormal  (None, 28, 28, 128)  512        ['conv3_block1_1_conv[0][0]']    \n",
      " ization)                                                                                         \n",
      "                                                                                                  \n",
      " conv3_block1_1_relu (Activatio  (None, 28, 28, 128)  0          ['conv3_block1_1_bn[0][0]']      \n",
      " n)                                                                                               \n",
      "                                                                                                  \n",
      " conv3_block1_2_conv (Conv2D)   (None, 28, 28, 128)  147584      ['conv3_block1_1_relu[0][0]']    \n",
      "                                                                                                  \n",
      " conv3_block1_2_bn (BatchNormal  (None, 28, 28, 128)  512        ['conv3_block1_2_conv[0][0]']    \n",
      " ization)                                                                                         \n",
      "                                                                                                  \n",
      " conv3_block1_2_relu (Activatio  (None, 28, 28, 128)  0          ['conv3_block1_2_bn[0][0]']      \n",
      " n)                                                                                               \n",
      "                                                                                                  \n",
      " conv3_block1_0_conv (Conv2D)   (None, 28, 28, 512)  131584      ['conv2_block3_out[0][0]']       \n",
      "                                                                                                  \n",
      " conv3_block1_3_conv (Conv2D)   (None, 28, 28, 512)  66048       ['conv3_block1_2_relu[0][0]']    \n",
      "                                                                                                  \n",
      " conv3_block1_0_bn (BatchNormal  (None, 28, 28, 512)  2048       ['conv3_block1_0_conv[0][0]']    \n",
      " ization)                                                                                         \n",
      "                                                                                                  \n",
      " conv3_block1_3_bn (BatchNormal  (None, 28, 28, 512)  2048       ['conv3_block1_3_conv[0][0]']    \n",
      " ization)                                                                                         \n",
      "                                                                                                  \n",
      " conv3_block1_add (Add)         (None, 28, 28, 512)  0           ['conv3_block1_0_bn[0][0]',      \n",
      "                                                                  'conv3_block1_3_bn[0][0]']      \n",
      "                                                                                                  \n",
      " conv3_block1_out (Activation)  (None, 28, 28, 512)  0           ['conv3_block1_add[0][0]']       \n",
      "                                                                                                  \n",
      " conv3_block2_1_conv (Conv2D)   (None, 28, 28, 128)  65664       ['conv3_block1_out[0][0]']       \n",
      "                                                                                                  \n",
      " conv3_block2_1_bn (BatchNormal  (None, 28, 28, 128)  512        ['conv3_block2_1_conv[0][0]']    \n",
      " ization)                                                                                         \n",
      "                                                                                                  \n",
      " conv3_block2_1_relu (Activatio  (None, 28, 28, 128)  0          ['conv3_block2_1_bn[0][0]']      \n",
      " n)                                                                                               \n",
      "                                                                                                  \n",
      " conv3_block2_2_conv (Conv2D)   (None, 28, 28, 128)  147584      ['conv3_block2_1_relu[0][0]']    \n",
      "                                                                                                  \n",
      " conv3_block2_2_bn (BatchNormal  (None, 28, 28, 128)  512        ['conv3_block2_2_conv[0][0]']    \n",
      " ization)                                                                                         \n",
      "                                                                                                  \n",
      " conv3_block2_2_relu (Activatio  (None, 28, 28, 128)  0          ['conv3_block2_2_bn[0][0]']      \n",
      " n)                                                                                               \n",
      "                                                                                                  \n",
      " conv3_block2_3_conv (Conv2D)   (None, 28, 28, 512)  66048       ['conv3_block2_2_relu[0][0]']    \n",
      "                                                                                                  \n",
      " conv3_block2_3_bn (BatchNormal  (None, 28, 28, 512)  2048       ['conv3_block2_3_conv[0][0]']    \n",
      " ization)                                                                                         \n",
      "                                                                                                  \n",
      " conv3_block2_add (Add)         (None, 28, 28, 512)  0           ['conv3_block1_out[0][0]',       \n",
      "                                                                  'conv3_block2_3_bn[0][0]']      \n",
      "                                                                                                  \n",
      " conv3_block2_out (Activation)  (None, 28, 28, 512)  0           ['conv3_block2_add[0][0]']       \n",
      "                                                                                                  \n",
      " conv3_block3_1_conv (Conv2D)   (None, 28, 28, 128)  65664       ['conv3_block2_out[0][0]']       \n",
      "                                                                                                  \n",
      " conv3_block3_1_bn (BatchNormal  (None, 28, 28, 128)  512        ['conv3_block3_1_conv[0][0]']    \n",
      " ization)                                                                                         \n"
     ]
    },
    {
     "name": "stdout",
     "output_type": "stream",
     "text": [
      "                                                                                                  \n",
      " conv3_block3_1_relu (Activatio  (None, 28, 28, 128)  0          ['conv3_block3_1_bn[0][0]']      \n",
      " n)                                                                                               \n",
      "                                                                                                  \n",
      " conv3_block3_2_conv (Conv2D)   (None, 28, 28, 128)  147584      ['conv3_block3_1_relu[0][0]']    \n",
      "                                                                                                  \n",
      " conv3_block3_2_bn (BatchNormal  (None, 28, 28, 128)  512        ['conv3_block3_2_conv[0][0]']    \n",
      " ization)                                                                                         \n",
      "                                                                                                  \n",
      " conv3_block3_2_relu (Activatio  (None, 28, 28, 128)  0          ['conv3_block3_2_bn[0][0]']      \n",
      " n)                                                                                               \n",
      "                                                                                                  \n",
      " conv3_block3_3_conv (Conv2D)   (None, 28, 28, 512)  66048       ['conv3_block3_2_relu[0][0]']    \n",
      "                                                                                                  \n",
      " conv3_block3_3_bn (BatchNormal  (None, 28, 28, 512)  2048       ['conv3_block3_3_conv[0][0]']    \n",
      " ization)                                                                                         \n",
      "                                                                                                  \n",
      " conv3_block3_add (Add)         (None, 28, 28, 512)  0           ['conv3_block2_out[0][0]',       \n",
      "                                                                  'conv3_block3_3_bn[0][0]']      \n",
      "                                                                                                  \n",
      " conv3_block3_out (Activation)  (None, 28, 28, 512)  0           ['conv3_block3_add[0][0]']       \n",
      "                                                                                                  \n",
      " conv3_block4_1_conv (Conv2D)   (None, 28, 28, 128)  65664       ['conv3_block3_out[0][0]']       \n",
      "                                                                                                  \n",
      " conv3_block4_1_bn (BatchNormal  (None, 28, 28, 128)  512        ['conv3_block4_1_conv[0][0]']    \n",
      " ization)                                                                                         \n",
      "                                                                                                  \n",
      " conv3_block4_1_relu (Activatio  (None, 28, 28, 128)  0          ['conv3_block4_1_bn[0][0]']      \n",
      " n)                                                                                               \n",
      "                                                                                                  \n",
      " conv3_block4_2_conv (Conv2D)   (None, 28, 28, 128)  147584      ['conv3_block4_1_relu[0][0]']    \n",
      "                                                                                                  \n",
      " conv3_block4_2_bn (BatchNormal  (None, 28, 28, 128)  512        ['conv3_block4_2_conv[0][0]']    \n",
      " ization)                                                                                         \n",
      "                                                                                                  \n",
      " conv3_block4_2_relu (Activatio  (None, 28, 28, 128)  0          ['conv3_block4_2_bn[0][0]']      \n",
      " n)                                                                                               \n",
      "                                                                                                  \n",
      " conv3_block4_3_conv (Conv2D)   (None, 28, 28, 512)  66048       ['conv3_block4_2_relu[0][0]']    \n",
      "                                                                                                  \n",
      " conv3_block4_3_bn (BatchNormal  (None, 28, 28, 512)  2048       ['conv3_block4_3_conv[0][0]']    \n",
      " ization)                                                                                         \n",
      "                                                                                                  \n",
      " conv3_block4_add (Add)         (None, 28, 28, 512)  0           ['conv3_block3_out[0][0]',       \n",
      "                                                                  'conv3_block4_3_bn[0][0]']      \n",
      "                                                                                                  \n",
      " conv3_block4_out (Activation)  (None, 28, 28, 512)  0           ['conv3_block4_add[0][0]']       \n",
      "                                                                                                  \n",
      " conv4_block1_1_conv (Conv2D)   (None, 14, 14, 256)  131328      ['conv3_block4_out[0][0]']       \n",
      "                                                                                                  \n",
      " conv4_block1_1_bn (BatchNormal  (None, 14, 14, 256)  1024       ['conv4_block1_1_conv[0][0]']    \n",
      " ization)                                                                                         \n",
      "                                                                                                  \n",
      " conv4_block1_1_relu (Activatio  (None, 14, 14, 256)  0          ['conv4_block1_1_bn[0][0]']      \n",
      " n)                                                                                               \n",
      "                                                                                                  \n",
      " conv4_block1_2_conv (Conv2D)   (None, 14, 14, 256)  590080      ['conv4_block1_1_relu[0][0]']    \n",
      "                                                                                                  \n",
      " conv4_block1_2_bn (BatchNormal  (None, 14, 14, 256)  1024       ['conv4_block1_2_conv[0][0]']    \n",
      " ization)                                                                                         \n",
      "                                                                                                  \n",
      " conv4_block1_2_relu (Activatio  (None, 14, 14, 256)  0          ['conv4_block1_2_bn[0][0]']      \n",
      " n)                                                                                               \n",
      "                                                                                                  \n",
      " conv4_block1_0_conv (Conv2D)   (None, 14, 14, 1024  525312      ['conv3_block4_out[0][0]']       \n",
      "                                )                                                                 \n",
      "                                                                                                  \n",
      " conv4_block1_3_conv (Conv2D)   (None, 14, 14, 1024  263168      ['conv4_block1_2_relu[0][0]']    \n",
      "                                )                                                                 \n",
      "                                                                                                  \n",
      " conv4_block1_0_bn (BatchNormal  (None, 14, 14, 1024  4096       ['conv4_block1_0_conv[0][0]']    \n",
      " ization)                       )                                                                 \n",
      "                                                                                                  \n",
      " conv4_block1_3_bn (BatchNormal  (None, 14, 14, 1024  4096       ['conv4_block1_3_conv[0][0]']    \n",
      " ization)                       )                                                                 \n",
      "                                                                                                  \n",
      " conv4_block1_add (Add)         (None, 14, 14, 1024  0           ['conv4_block1_0_bn[0][0]',      \n",
      "                                )                                 'conv4_block1_3_bn[0][0]']      \n",
      "                                                                                                  \n",
      " conv4_block1_out (Activation)  (None, 14, 14, 1024  0           ['conv4_block1_add[0][0]']       \n",
      "                                )                                                                 \n",
      "                                                                                                  \n",
      " conv4_block2_1_conv (Conv2D)   (None, 14, 14, 256)  262400      ['conv4_block1_out[0][0]']       \n"
     ]
    },
    {
     "name": "stdout",
     "output_type": "stream",
     "text": [
      "                                                                                                  \n",
      " conv4_block2_1_bn (BatchNormal  (None, 14, 14, 256)  1024       ['conv4_block2_1_conv[0][0]']    \n",
      " ization)                                                                                         \n",
      "                                                                                                  \n",
      " conv4_block2_1_relu (Activatio  (None, 14, 14, 256)  0          ['conv4_block2_1_bn[0][0]']      \n",
      " n)                                                                                               \n",
      "                                                                                                  \n",
      " conv4_block2_2_conv (Conv2D)   (None, 14, 14, 256)  590080      ['conv4_block2_1_relu[0][0]']    \n",
      "                                                                                                  \n",
      " conv4_block2_2_bn (BatchNormal  (None, 14, 14, 256)  1024       ['conv4_block2_2_conv[0][0]']    \n",
      " ization)                                                                                         \n",
      "                                                                                                  \n",
      " conv4_block2_2_relu (Activatio  (None, 14, 14, 256)  0          ['conv4_block2_2_bn[0][0]']      \n",
      " n)                                                                                               \n",
      "                                                                                                  \n",
      " conv4_block2_3_conv (Conv2D)   (None, 14, 14, 1024  263168      ['conv4_block2_2_relu[0][0]']    \n",
      "                                )                                                                 \n",
      "                                                                                                  \n",
      " conv4_block2_3_bn (BatchNormal  (None, 14, 14, 1024  4096       ['conv4_block2_3_conv[0][0]']    \n",
      " ization)                       )                                                                 \n",
      "                                                                                                  \n",
      " conv4_block2_add (Add)         (None, 14, 14, 1024  0           ['conv4_block1_out[0][0]',       \n",
      "                                )                                 'conv4_block2_3_bn[0][0]']      \n",
      "                                                                                                  \n",
      " conv4_block2_out (Activation)  (None, 14, 14, 1024  0           ['conv4_block2_add[0][0]']       \n",
      "                                )                                                                 \n",
      "                                                                                                  \n",
      " conv4_block3_1_conv (Conv2D)   (None, 14, 14, 256)  262400      ['conv4_block2_out[0][0]']       \n",
      "                                                                                                  \n",
      " conv4_block3_1_bn (BatchNormal  (None, 14, 14, 256)  1024       ['conv4_block3_1_conv[0][0]']    \n",
      " ization)                                                                                         \n",
      "                                                                                                  \n",
      " conv4_block3_1_relu (Activatio  (None, 14, 14, 256)  0          ['conv4_block3_1_bn[0][0]']      \n",
      " n)                                                                                               \n",
      "                                                                                                  \n",
      " conv4_block3_2_conv (Conv2D)   (None, 14, 14, 256)  590080      ['conv4_block3_1_relu[0][0]']    \n",
      "                                                                                                  \n",
      " conv4_block3_2_bn (BatchNormal  (None, 14, 14, 256)  1024       ['conv4_block3_2_conv[0][0]']    \n",
      " ization)                                                                                         \n",
      "                                                                                                  \n",
      " conv4_block3_2_relu (Activatio  (None, 14, 14, 256)  0          ['conv4_block3_2_bn[0][0]']      \n",
      " n)                                                                                               \n",
      "                                                                                                  \n",
      " conv4_block3_3_conv (Conv2D)   (None, 14, 14, 1024  263168      ['conv4_block3_2_relu[0][0]']    \n",
      "                                )                                                                 \n",
      "                                                                                                  \n",
      " conv4_block3_3_bn (BatchNormal  (None, 14, 14, 1024  4096       ['conv4_block3_3_conv[0][0]']    \n",
      " ization)                       )                                                                 \n",
      "                                                                                                  \n",
      " conv4_block3_add (Add)         (None, 14, 14, 1024  0           ['conv4_block2_out[0][0]',       \n",
      "                                )                                 'conv4_block3_3_bn[0][0]']      \n",
      "                                                                                                  \n",
      " conv4_block3_out (Activation)  (None, 14, 14, 1024  0           ['conv4_block3_add[0][0]']       \n",
      "                                )                                                                 \n",
      "                                                                                                  \n",
      " conv4_block4_1_conv (Conv2D)   (None, 14, 14, 256)  262400      ['conv4_block3_out[0][0]']       \n",
      "                                                                                                  \n",
      " conv4_block4_1_bn (BatchNormal  (None, 14, 14, 256)  1024       ['conv4_block4_1_conv[0][0]']    \n",
      " ization)                                                                                         \n",
      "                                                                                                  \n",
      " conv4_block4_1_relu (Activatio  (None, 14, 14, 256)  0          ['conv4_block4_1_bn[0][0]']      \n",
      " n)                                                                                               \n",
      "                                                                                                  \n",
      " conv4_block4_2_conv (Conv2D)   (None, 14, 14, 256)  590080      ['conv4_block4_1_relu[0][0]']    \n",
      "                                                                                                  \n",
      " conv4_block4_2_bn (BatchNormal  (None, 14, 14, 256)  1024       ['conv4_block4_2_conv[0][0]']    \n",
      " ization)                                                                                         \n",
      "                                                                                                  \n",
      " conv4_block4_2_relu (Activatio  (None, 14, 14, 256)  0          ['conv4_block4_2_bn[0][0]']      \n",
      " n)                                                                                               \n",
      "                                                                                                  \n",
      " conv4_block4_3_conv (Conv2D)   (None, 14, 14, 1024  263168      ['conv4_block4_2_relu[0][0]']    \n",
      "                                )                                                                 \n",
      "                                                                                                  \n",
      " conv4_block4_3_bn (BatchNormal  (None, 14, 14, 1024  4096       ['conv4_block4_3_conv[0][0]']    \n",
      " ization)                       )                                                                 \n",
      "                                                                                                  \n",
      " conv4_block4_add (Add)         (None, 14, 14, 1024  0           ['conv4_block3_out[0][0]',       \n",
      "                                )                                 'conv4_block4_3_bn[0][0]']      \n",
      "                                                                                                  \n",
      " conv4_block4_out (Activation)  (None, 14, 14, 1024  0           ['conv4_block4_add[0][0]']       \n",
      "                                )                                                                 \n",
      "                                                                                                  \n"
     ]
    },
    {
     "name": "stdout",
     "output_type": "stream",
     "text": [
      " conv4_block5_1_conv (Conv2D)   (None, 14, 14, 256)  262400      ['conv4_block4_out[0][0]']       \n",
      "                                                                                                  \n",
      " conv4_block5_1_bn (BatchNormal  (None, 14, 14, 256)  1024       ['conv4_block5_1_conv[0][0]']    \n",
      " ization)                                                                                         \n",
      "                                                                                                  \n",
      " conv4_block5_1_relu (Activatio  (None, 14, 14, 256)  0          ['conv4_block5_1_bn[0][0]']      \n",
      " n)                                                                                               \n",
      "                                                                                                  \n",
      " conv4_block5_2_conv (Conv2D)   (None, 14, 14, 256)  590080      ['conv4_block5_1_relu[0][0]']    \n",
      "                                                                                                  \n",
      " conv4_block5_2_bn (BatchNormal  (None, 14, 14, 256)  1024       ['conv4_block5_2_conv[0][0]']    \n",
      " ization)                                                                                         \n",
      "                                                                                                  \n",
      " conv4_block5_2_relu (Activatio  (None, 14, 14, 256)  0          ['conv4_block5_2_bn[0][0]']      \n",
      " n)                                                                                               \n",
      "                                                                                                  \n",
      " conv4_block5_3_conv (Conv2D)   (None, 14, 14, 1024  263168      ['conv4_block5_2_relu[0][0]']    \n",
      "                                )                                                                 \n",
      "                                                                                                  \n",
      " conv4_block5_3_bn (BatchNormal  (None, 14, 14, 1024  4096       ['conv4_block5_3_conv[0][0]']    \n",
      " ization)                       )                                                                 \n",
      "                                                                                                  \n",
      " conv4_block5_add (Add)         (None, 14, 14, 1024  0           ['conv4_block4_out[0][0]',       \n",
      "                                )                                 'conv4_block5_3_bn[0][0]']      \n",
      "                                                                                                  \n",
      " conv4_block5_out (Activation)  (None, 14, 14, 1024  0           ['conv4_block5_add[0][0]']       \n",
      "                                )                                                                 \n",
      "                                                                                                  \n",
      " conv4_block6_1_conv (Conv2D)   (None, 14, 14, 256)  262400      ['conv4_block5_out[0][0]']       \n",
      "                                                                                                  \n",
      " conv4_block6_1_bn (BatchNormal  (None, 14, 14, 256)  1024       ['conv4_block6_1_conv[0][0]']    \n",
      " ization)                                                                                         \n",
      "                                                                                                  \n",
      " conv4_block6_1_relu (Activatio  (None, 14, 14, 256)  0          ['conv4_block6_1_bn[0][0]']      \n",
      " n)                                                                                               \n",
      "                                                                                                  \n",
      " conv4_block6_2_conv (Conv2D)   (None, 14, 14, 256)  590080      ['conv4_block6_1_relu[0][0]']    \n",
      "                                                                                                  \n",
      " conv4_block6_2_bn (BatchNormal  (None, 14, 14, 256)  1024       ['conv4_block6_2_conv[0][0]']    \n",
      " ization)                                                                                         \n",
      "                                                                                                  \n",
      " conv4_block6_2_relu (Activatio  (None, 14, 14, 256)  0          ['conv4_block6_2_bn[0][0]']      \n",
      " n)                                                                                               \n",
      "                                                                                                  \n",
      " conv4_block6_3_conv (Conv2D)   (None, 14, 14, 1024  263168      ['conv4_block6_2_relu[0][0]']    \n",
      "                                )                                                                 \n",
      "                                                                                                  \n",
      " conv4_block6_3_bn (BatchNormal  (None, 14, 14, 1024  4096       ['conv4_block6_3_conv[0][0]']    \n",
      " ization)                       )                                                                 \n",
      "                                                                                                  \n",
      " conv4_block6_add (Add)         (None, 14, 14, 1024  0           ['conv4_block5_out[0][0]',       \n",
      "                                )                                 'conv4_block6_3_bn[0][0]']      \n",
      "                                                                                                  \n",
      " conv4_block6_out (Activation)  (None, 14, 14, 1024  0           ['conv4_block6_add[0][0]']       \n",
      "                                )                                                                 \n",
      "                                                                                                  \n",
      " conv5_block1_1_conv (Conv2D)   (None, 7, 7, 512)    524800      ['conv4_block6_out[0][0]']       \n",
      "                                                                                                  \n",
      " conv5_block1_1_bn (BatchNormal  (None, 7, 7, 512)   2048        ['conv5_block1_1_conv[0][0]']    \n",
      " ization)                                                                                         \n",
      "                                                                                                  \n",
      " conv5_block1_1_relu (Activatio  (None, 7, 7, 512)   0           ['conv5_block1_1_bn[0][0]']      \n",
      " n)                                                                                               \n",
      "                                                                                                  \n",
      " conv5_block1_2_conv (Conv2D)   (None, 7, 7, 512)    2359808     ['conv5_block1_1_relu[0][0]']    \n",
      "                                                                                                  \n",
      " conv5_block1_2_bn (BatchNormal  (None, 7, 7, 512)   2048        ['conv5_block1_2_conv[0][0]']    \n",
      " ization)                                                                                         \n",
      "                                                                                                  \n",
      " conv5_block1_2_relu (Activatio  (None, 7, 7, 512)   0           ['conv5_block1_2_bn[0][0]']      \n",
      " n)                                                                                               \n",
      "                                                                                                  \n",
      " conv5_block1_0_conv (Conv2D)   (None, 7, 7, 2048)   2099200     ['conv4_block6_out[0][0]']       \n",
      "                                                                                                  \n",
      " conv5_block1_3_conv (Conv2D)   (None, 7, 7, 2048)   1050624     ['conv5_block1_2_relu[0][0]']    \n",
      "                                                                                                  \n",
      " conv5_block1_0_bn (BatchNormal  (None, 7, 7, 2048)  8192        ['conv5_block1_0_conv[0][0]']    \n",
      " ization)                                                                                         \n",
      "                                                                                                  \n",
      " conv5_block1_3_bn (BatchNormal  (None, 7, 7, 2048)  8192        ['conv5_block1_3_conv[0][0]']    \n",
      " ization)                                                                                         \n",
      "                                                                                                  \n",
      " conv5_block1_add (Add)         (None, 7, 7, 2048)   0           ['conv5_block1_0_bn[0][0]',      \n"
     ]
    },
    {
     "name": "stdout",
     "output_type": "stream",
     "text": [
      "                                                                  'conv5_block1_3_bn[0][0]']      \n",
      "                                                                                                  \n",
      " conv5_block1_out (Activation)  (None, 7, 7, 2048)   0           ['conv5_block1_add[0][0]']       \n",
      "                                                                                                  \n",
      " conv5_block2_1_conv (Conv2D)   (None, 7, 7, 512)    1049088     ['conv5_block1_out[0][0]']       \n",
      "                                                                                                  \n",
      " conv5_block2_1_bn (BatchNormal  (None, 7, 7, 512)   2048        ['conv5_block2_1_conv[0][0]']    \n",
      " ization)                                                                                         \n",
      "                                                                                                  \n",
      " conv5_block2_1_relu (Activatio  (None, 7, 7, 512)   0           ['conv5_block2_1_bn[0][0]']      \n",
      " n)                                                                                               \n",
      "                                                                                                  \n",
      " conv5_block2_2_conv (Conv2D)   (None, 7, 7, 512)    2359808     ['conv5_block2_1_relu[0][0]']    \n",
      "                                                                                                  \n",
      " conv5_block2_2_bn (BatchNormal  (None, 7, 7, 512)   2048        ['conv5_block2_2_conv[0][0]']    \n",
      " ization)                                                                                         \n",
      "                                                                                                  \n",
      " conv5_block2_2_relu (Activatio  (None, 7, 7, 512)   0           ['conv5_block2_2_bn[0][0]']      \n",
      " n)                                                                                               \n",
      "                                                                                                  \n",
      " conv5_block2_3_conv (Conv2D)   (None, 7, 7, 2048)   1050624     ['conv5_block2_2_relu[0][0]']    \n",
      "                                                                                                  \n",
      " conv5_block2_3_bn (BatchNormal  (None, 7, 7, 2048)  8192        ['conv5_block2_3_conv[0][0]']    \n",
      " ization)                                                                                         \n",
      "                                                                                                  \n",
      " conv5_block2_add (Add)         (None, 7, 7, 2048)   0           ['conv5_block1_out[0][0]',       \n",
      "                                                                  'conv5_block2_3_bn[0][0]']      \n",
      "                                                                                                  \n",
      " conv5_block2_out (Activation)  (None, 7, 7, 2048)   0           ['conv5_block2_add[0][0]']       \n",
      "                                                                                                  \n",
      " conv5_block3_1_conv (Conv2D)   (None, 7, 7, 512)    1049088     ['conv5_block2_out[0][0]']       \n",
      "                                                                                                  \n",
      " conv5_block3_1_bn (BatchNormal  (None, 7, 7, 512)   2048        ['conv5_block3_1_conv[0][0]']    \n",
      " ization)                                                                                         \n",
      "                                                                                                  \n",
      " conv5_block3_1_relu (Activatio  (None, 7, 7, 512)   0           ['conv5_block3_1_bn[0][0]']      \n",
      " n)                                                                                               \n",
      "                                                                                                  \n",
      " conv5_block3_2_conv (Conv2D)   (None, 7, 7, 512)    2359808     ['conv5_block3_1_relu[0][0]']    \n",
      "                                                                                                  \n",
      " conv5_block3_2_bn (BatchNormal  (None, 7, 7, 512)   2048        ['conv5_block3_2_conv[0][0]']    \n",
      " ization)                                                                                         \n",
      "                                                                                                  \n",
      " conv5_block3_2_relu (Activatio  (None, 7, 7, 512)   0           ['conv5_block3_2_bn[0][0]']      \n",
      " n)                                                                                               \n",
      "                                                                                                  \n",
      " conv5_block3_3_conv (Conv2D)   (None, 7, 7, 2048)   1050624     ['conv5_block3_2_relu[0][0]']    \n",
      "                                                                                                  \n",
      " conv5_block3_3_bn (BatchNormal  (None, 7, 7, 2048)  8192        ['conv5_block3_3_conv[0][0]']    \n",
      " ization)                                                                                         \n",
      "                                                                                                  \n",
      " conv5_block3_add (Add)         (None, 7, 7, 2048)   0           ['conv5_block2_out[0][0]',       \n",
      "                                                                  'conv5_block3_3_bn[0][0]']      \n",
      "                                                                                                  \n",
      " conv5_block3_out (Activation)  (None, 7, 7, 2048)   0           ['conv5_block3_add[0][0]']       \n",
      "                                                                                                  \n",
      " flatten (Flatten)              (None, 100352)       0           ['conv5_block3_out[0][0]']       \n",
      "                                                                                                  \n",
      " dense (Dense)                  (None, 4)            401412      ['flatten[0][0]']                \n",
      "                                                                                                  \n",
      "==================================================================================================\n",
      "Total params: 23,989,124\n",
      "Trainable params: 401,412\n",
      "Non-trainable params: 23,587,712\n",
      "__________________________________________________________________________________________________\n"
     ]
    }
   ],
   "source": [
    "model.summary()"
   ]
  },
  {
   "cell_type": "code",
   "execution_count": 9,
   "id": "29e81adf",
   "metadata": {},
   "outputs": [],
   "source": [
    "# Model csot and optmization methods\n",
    "model.compile(\n",
    "    loss='categorical_crossentropy',\n",
    "    optimizer='adam',\n",
    "    metrics=['accuracy']\n",
    ")"
   ]
  },
  {
   "cell_type": "code",
   "execution_count": 10,
   "id": "483227a0",
   "metadata": {},
   "outputs": [],
   "source": [
    "# Use the Image Data Generator to import the images from the dataset\n",
    "from tensorflow.keras.preprocessing.image import ImageDataGenerator\n",
    "\n",
    "train_datagen = ImageDataGenerator(rescale = 1./255,\n",
    "                                   shear_range = 0.2,\n",
    "                                   zoom_range = 0.2,\n",
    "                                   horizontal_flip = True)\n",
    "\n",
    "test_datagen = ImageDataGenerator(rescale = 1./255)"
   ]
  },
  {
   "cell_type": "code",
   "execution_count": 11,
   "id": "794055ee",
   "metadata": {},
   "outputs": [
    {
     "name": "stdout",
     "output_type": "stream",
     "text": [
      "Found 1359 images belonging to 4 classes.\n"
     ]
    }
   ],
   "source": [
    "# Make sure you provide the same target size as initialied for the image size\n",
    "training_set = train_datagen.flow_from_directory('Photo_data/train',\n",
    "                                                 target_size = (224, 224),\n",
    "                                                 batch_size = 32,\n",
    "                                                 class_mode = 'categorical')"
   ]
  },
  {
   "cell_type": "code",
   "execution_count": 12,
   "id": "74d3e92c",
   "metadata": {},
   "outputs": [
    {
     "name": "stdout",
     "output_type": "stream",
     "text": [
      "Found 120 images belonging to 4 classes.\n"
     ]
    }
   ],
   "source": [
    "test_set = test_datagen.flow_from_directory('Photo_data/test',\n",
    "                                            target_size = (224, 224),\n",
    "                                            batch_size = 32,\n",
    "                                            class_mode = 'categorical')"
   ]
  },
  {
   "cell_type": "code",
   "execution_count": 13,
   "id": "1c321ea5",
   "metadata": {},
   "outputs": [
    {
     "name": "stdout",
     "output_type": "stream",
     "text": [
      "Epoch 1/30\n",
      "43/43 [==============================] - 243s 5s/step - loss: 3.7851 - accuracy: 0.3525 - val_loss: 1.2520 - val_accuracy: 0.6333\n",
      "Epoch 2/30\n",
      "43/43 [==============================] - 208s 5s/step - loss: 1.0983 - accuracy: 0.5489 - val_loss: 0.9816 - val_accuracy: 0.6083\n",
      "Epoch 3/30\n",
      "43/43 [==============================] - 215s 5s/step - loss: 0.9499 - accuracy: 0.6336 - val_loss: 0.7312 - val_accuracy: 0.7417\n",
      "Epoch 4/30\n",
      "43/43 [==============================] - 223s 5s/step - loss: 0.8540 - accuracy: 0.6645 - val_loss: 0.7279 - val_accuracy: 0.7000\n",
      "Epoch 5/30\n",
      "43/43 [==============================] - 218s 5s/step - loss: 0.8638 - accuracy: 0.6468 - val_loss: 0.7842 - val_accuracy: 0.7333\n",
      "Epoch 6/30\n",
      "43/43 [==============================] - 229s 5s/step - loss: 0.8697 - accuracy: 0.6755 - val_loss: 0.7238 - val_accuracy: 0.7083\n",
      "Epoch 7/30\n",
      "43/43 [==============================] - 213s 5s/step - loss: 0.7513 - accuracy: 0.7270 - val_loss: 0.6755 - val_accuracy: 0.7917\n",
      "Epoch 8/30\n",
      "43/43 [==============================] - 215s 5s/step - loss: 0.6372 - accuracy: 0.7748 - val_loss: 0.8121 - val_accuracy: 0.7667\n",
      "Epoch 9/30\n",
      "43/43 [==============================] - 236s 5s/step - loss: 0.7539 - accuracy: 0.7093 - val_loss: 0.6846 - val_accuracy: 0.7500\n",
      "Epoch 10/30\n",
      "43/43 [==============================] - 243s 6s/step - loss: 0.6167 - accuracy: 0.7726 - val_loss: 0.5664 - val_accuracy: 0.7667\n",
      "Epoch 11/30\n",
      "43/43 [==============================] - 243s 6s/step - loss: 0.8591 - accuracy: 0.6887 - val_loss: 1.5296 - val_accuracy: 0.6667\n",
      "Epoch 12/30\n",
      "43/43 [==============================] - 257s 6s/step - loss: 1.0707 - accuracy: 0.6483 - val_loss: 1.1132 - val_accuracy: 0.6500\n",
      "Epoch 13/30\n",
      "43/43 [==============================] - 226s 5s/step - loss: 0.7823 - accuracy: 0.7189 - val_loss: 0.6796 - val_accuracy: 0.7167\n",
      "Epoch 14/30\n",
      "43/43 [==============================] - 239s 6s/step - loss: 0.6346 - accuracy: 0.7498 - val_loss: 0.5333 - val_accuracy: 0.7750\n",
      "Epoch 15/30\n",
      "43/43 [==============================] - 243s 6s/step - loss: 0.5932 - accuracy: 0.7704 - val_loss: 0.5871 - val_accuracy: 0.7833\n",
      "Epoch 16/30\n",
      "43/43 [==============================] - 204s 5s/step - loss: 0.7527 - accuracy: 0.7476 - val_loss: 0.5840 - val_accuracy: 0.8250\n",
      "Epoch 17/30\n",
      "43/43 [==============================] - 206s 5s/step - loss: 0.6219 - accuracy: 0.7601 - val_loss: 0.6474 - val_accuracy: 0.7167\n",
      "Epoch 18/30\n",
      "43/43 [==============================] - 206s 5s/step - loss: 0.4659 - accuracy: 0.8322 - val_loss: 0.6660 - val_accuracy: 0.7833\n",
      "Epoch 19/30\n",
      "43/43 [==============================] - 212s 5s/step - loss: 0.7412 - accuracy: 0.7454 - val_loss: 0.6659 - val_accuracy: 0.7500\n",
      "Epoch 20/30\n",
      "43/43 [==============================] - 164s 4s/step - loss: 0.6416 - accuracy: 0.7697 - val_loss: 0.6752 - val_accuracy: 0.7583\n",
      "Epoch 21/30\n",
      "43/43 [==============================] - 213s 5s/step - loss: 0.5411 - accuracy: 0.8021 - val_loss: 0.8788 - val_accuracy: 0.7250\n",
      "Epoch 22/30\n",
      "43/43 [==============================] - 208s 5s/step - loss: 0.5119 - accuracy: 0.8175 - val_loss: 0.5736 - val_accuracy: 0.7833\n",
      "Epoch 23/30\n",
      "43/43 [==============================] - 209s 5s/step - loss: 0.5315 - accuracy: 0.8072 - val_loss: 0.4334 - val_accuracy: 0.8750\n",
      "Epoch 24/30\n",
      "43/43 [==============================] - 208s 5s/step - loss: 0.6301 - accuracy: 0.7800 - val_loss: 0.5518 - val_accuracy: 0.7917\n",
      "Epoch 25/30\n",
      "43/43 [==============================] - 201s 5s/step - loss: 0.5632 - accuracy: 0.7947 - val_loss: 0.6060 - val_accuracy: 0.7750\n",
      "Epoch 26/30\n",
      "43/43 [==============================] - 235s 5s/step - loss: 0.4566 - accuracy: 0.8278 - val_loss: 0.5929 - val_accuracy: 0.8417\n",
      "Epoch 27/30\n",
      "43/43 [==============================] - 238s 5s/step - loss: 0.6386 - accuracy: 0.7741 - val_loss: 0.9273 - val_accuracy: 0.7750\n",
      "Epoch 28/30\n",
      "43/43 [==============================] - 200s 5s/step - loss: 0.6582 - accuracy: 0.7756 - val_loss: 0.9144 - val_accuracy: 0.7167\n",
      "Epoch 29/30\n",
      "43/43 [==============================] - 211s 5s/step - loss: 0.5589 - accuracy: 0.7991 - val_loss: 0.5061 - val_accuracy: 0.8583\n",
      "Epoch 30/30\n",
      "43/43 [==============================] - 235s 5s/step - loss: 0.4972 - accuracy: 0.8205 - val_loss: 0.4749 - val_accuracy: 0.8500\n"
     ]
    }
   ],
   "source": [
    "# fit the model\n",
    "# Run the cell. It will take some time to execute\n",
    "r = model.fit(\n",
    "  training_set,\n",
    "  validation_data=test_set,\n",
    "  epochs=30,\n",
    "  steps_per_epoch=len(training_set),\n",
    "  validation_steps=len(test_set)\n",
    ")"
   ]
  },
  {
   "cell_type": "code",
   "execution_count": 14,
   "id": "b1b94063",
   "metadata": {},
   "outputs": [
    {
     "data": {
      "image/png": "[encoded data removed]",
      "text/plain": [
       "<Figure size 640x480 with 1 Axes>"
      ]
     },
     "metadata": {},
     "output_type": "display_data"
    },
    {
     "data": {
      "image/png": "[encoded data removed]",
      "text/plain": [
       "<Figure size 640x480 with 1 Axes>"
      ]
     },
     "metadata": {},
     "output_type": "display_data"
    },
    {
     "data": {
      "text/plain": [
       "<Figure size 640x480 with 0 Axes>"
      ]
     },
     "metadata": {},
     "output_type": "display_data"
    }
   ],
   "source": [
    "# plot the loss\n",
    "plt.plot(r.history['loss'], label='train loss')\n",
    "plt.plot(r.history['val_loss'], label='val loss')\n",
    "plt.legend()\n",
    "plt.show()\n",
    "plt.savefig('LossVal_loss')\n",
    "\n",
    "# plot the accuracy\n",
    "plt.plot(r.history['accuracy'], label='train acc')\n",
    "plt.plot(r.history['val_accuracy'], label='val acc')\n",
    "plt.legend()\n",
    "plt.show()\n",
    "plt.savefig('AccVal_acc')"
   ]
  },
  {
   "cell_type": "code",
   "execution_count": 15,
   "id": "28c45f6f",
   "metadata": {},
   "outputs": [],
   "source": [
    "# save it as h5 file\n",
    "\n",
    "from tensorflow.keras.models import load_model\n",
    "model.save('model_resnet50.h5')"
   ]
  },
  {
   "cell_type": "code",
   "execution_count": 16,
   "id": "6715c25b",
   "metadata": {},
   "outputs": [
    {
     "name": "stdout",
     "output_type": "stream",
     "text": [
      "4/4 [==============================] - 31s 7s/step\n"
     ]
    }
   ],
   "source": [
    "y_pred = model.predict(test_set)"
   ]
  },
  {
   "cell_type": "code",
   "execution_count": 17,
   "id": "ea627cdb",
   "metadata": {},
   "outputs": [
    {
     "data": {
      "text/plain": [
       "array([[7.66614623e-15, 2.29914265e-09, 4.89814149e-04, 9.99510169e-01],\n",
       "       [2.60459095e-01, 7.69362226e-02, 6.17268801e-01, 4.53358255e-02],\n",
       "       [1.64341316e-06, 7.83032924e-03, 1.52269294e-02, 9.76941049e-01],\n",
       "       [9.69065368e-01, 1.09515721e-02, 9.51985945e-04, 1.90309696e-02],\n",
       "       [3.73657495e-01, 5.12481071e-02, 5.46691298e-01, 2.84030996e-02],\n",
       "       [2.97576480e-06, 9.98359501e-01, 2.01668954e-04, 1.43583503e-03],\n",
       "       [2.35188108e-05, 9.92954433e-01, 9.89548353e-05, 6.92307949e-03],\n",
       "       [4.58325985e-06, 9.98780310e-01, 1.09547516e-03, 1.19636643e-04],\n",
       "       [6.33324444e-01, 1.47332489e-01, 1.48665428e-01, 7.06777498e-02],\n",
       "       [3.11160897e-04, 1.40037030e-01, 6.09702710e-03, 8.53554726e-01],\n",
       "       [3.13932747e-02, 5.32247759e-02, 1.39817044e-01, 7.75564849e-01],\n",
       "       [1.29837776e-04, 9.95546460e-01, 3.03864339e-03, 1.28499581e-03],\n",
       "       [1.10966042e-02, 3.11929844e-02, 9.41022217e-01, 1.66881550e-02],\n",
       "       [9.11720216e-01, 3.16032916e-02, 5.11523075e-02, 5.52417990e-03],\n",
       "       [7.60139956e-05, 1.51536353e-02, 2.64988327e-03, 9.82120454e-01],\n",
       "       [6.08809991e-04, 1.11604109e-02, 1.31770747e-03, 9.86913085e-01],\n",
       "       [3.55381221e-02, 1.45067245e-01, 8.07729304e-01, 1.16653387e-02],\n",
       "       [9.37194765e-01, 5.59786037e-02, 6.76230667e-03, 6.43519088e-05],\n",
       "       [4.79409437e-06, 9.98249948e-01, 3.98742442e-04, 1.34654925e-03],\n",
       "       [1.39053926e-01, 3.27313840e-02, 8.17111015e-01, 1.11037036e-02],\n",
       "       [7.46308923e-01, 7.12906569e-02, 1.63139567e-01, 1.92607883e-02],\n",
       "       [1.59448788e-01, 7.95731604e-01, 3.41707803e-02, 1.06488066e-02],\n",
       "       [1.18626008e-06, 9.99871016e-01, 3.93967275e-05, 8.84154433e-05],\n",
       "       [7.70280073e-15, 8.17436521e-05, 2.45568901e-03, 9.97462630e-01],\n",
       "       [4.23252443e-03, 9.31097269e-01, 6.34016767e-02, 1.26858440e-03],\n",
       "       [1.02359563e-01, 2.37741414e-02, 8.62882078e-01, 1.09842960e-02],\n",
       "       [8.44832182e-01, 5.47022484e-02, 9.18220952e-02, 8.64348933e-03],\n",
       "       [2.24181179e-07, 9.99986410e-01, 1.05934287e-05, 2.78314383e-06],\n",
       "       [1.77898601e-01, 5.48181117e-01, 3.99700999e-02, 2.33950168e-01],\n",
       "       [4.61776778e-02, 1.63168311e-02, 9.20098603e-01, 1.74069162e-02],\n",
       "       [6.49069110e-03, 9.76263762e-01, 1.54349478e-02, 1.81062974e-03],\n",
       "       [3.47467542e-01, 4.13937241e-01, 8.20835158e-02, 1.56511679e-01],\n",
       "       [5.91226757e-01, 5.53741977e-02, 3.32332671e-01, 2.10663378e-02],\n",
       "       [2.13145047e-01, 1.09841622e-01, 6.53649151e-01, 2.33641155e-02],\n",
       "       [1.05193281e-03, 1.89276505e-02, 9.78974581e-01, 1.04581902e-03],\n",
       "       [5.72589599e-03, 1.15126045e-02, 9.79010582e-01, 3.75097524e-03],\n",
       "       [4.90364937e-06, 1.00015321e-04, 4.09211149e-04, 9.99485850e-01],\n",
       "       [3.87589307e-06, 9.99333441e-01, 5.15293068e-05, 6.11173047e-04],\n",
       "       [2.50811368e-01, 5.11958487e-02, 9.20238718e-02, 6.05969012e-01],\n",
       "       [5.42205215e-01, 1.12061448e-01, 3.43595117e-01, 2.13815202e-03],\n",
       "       [2.24234533e-08, 2.49779038e-03, 3.45171383e-03, 9.94050443e-01],\n",
       "       [6.49947789e-04, 6.22137636e-02, 1.40553631e-03, 9.35730755e-01],\n",
       "       [6.56213379e-05, 4.52444553e-02, 9.24324340e-05, 9.54597414e-01],\n",
       "       [9.91369307e-01, 2.56987289e-03, 1.03834376e-04, 5.95690962e-03],\n",
       "       [2.59696780e-08, 1.78742607e-03, 1.23309874e-05, 9.98200178e-01],\n",
       "       [5.58954887e-02, 9.84715112e-03, 9.00548138e-03, 9.25251961e-01],\n",
       "       [6.63683284e-04, 9.83850360e-01, 1.28391841e-02, 2.64669955e-03],\n",
       "       [3.38276535e-01, 2.37357169e-01, 3.74621570e-01, 4.97446992e-02],\n",
       "       [8.00555497e-02, 6.97334558e-02, 8.85357428e-03, 8.41357470e-01],\n",
       "       [8.52254748e-01, 6.85415864e-02, 6.17511421e-02, 1.74525268e-02],\n",
       "       [9.51063518e-23, 1.03971996e-12, 5.22763255e-09, 1.00000000e+00],\n",
       "       [4.34575093e-18, 1.03867739e-12, 4.63394434e-09, 1.00000000e+00],\n",
       "       [1.61581925e-32, 2.19771383e-24, 5.45167187e-16, 1.00000000e+00],\n",
       "       [1.47291967e-05, 9.99252737e-01, 1.00204110e-04, 6.32276933e-04],\n",
       "       [3.97245632e-03, 1.39201256e-02, 9.76872444e-01, 5.23497304e-03],\n",
       "       [5.13210654e-01, 4.65565741e-01, 7.76622863e-03, 1.34574007e-02],\n",
       "       [8.66086304e-01, 2.83192005e-02, 9.38654542e-02, 1.17290132e-02],\n",
       "       [4.60131696e-06, 6.23119891e-01, 3.00895367e-02, 3.46786022e-01],\n",
       "       [1.47181734e-01, 3.23911607e-02, 7.40072370e-01, 8.03546682e-02],\n",
       "       [2.39065265e-08, 9.99992251e-01, 7.32961507e-06, 3.98087366e-07],\n",
       "       [8.39316344e-05, 9.88399267e-01, 2.89766374e-03, 8.61909706e-03],\n",
       "       [3.23541905e-03, 4.92354572e-01, 1.05880387e-01, 3.98529679e-01],\n",
       "       [9.04522419e-01, 7.07362071e-02, 6.94811624e-03, 1.77932493e-02],\n",
       "       [8.22409522e-03, 9.48182225e-01, 4.15467843e-02, 2.04685796e-03],\n",
       "       [9.18351335e-17, 1.49573578e-15, 8.72560122e-08, 9.99999881e-01],\n",
       "       [4.26305724e-06, 9.99858141e-01, 2.46539366e-06, 1.35141643e-04],\n",
       "       [5.58000970e-08, 6.60051703e-02, 3.73747200e-03, 9.30257261e-01],\n",
       "       [1.09995417e-02, 3.27912457e-02, 9.55809891e-01, 3.99267359e-04],\n",
       "       [7.93417037e-01, 6.41382933e-02, 1.30986318e-01, 1.14583215e-02],\n",
       "       [1.94932881e-03, 4.88631539e-02, 9.47785974e-01, 1.40161405e-03],\n",
       "       [9.85160947e-01, 8.64412915e-03, 4.56796912e-03, 1.62697257e-03],\n",
       "       [7.18417168e-01, 2.56388307e-01, 2.58866814e-03, 2.26059016e-02],\n",
       "       [8.11235160e-02, 2.73482762e-02, 5.33580184e-01, 3.57948095e-01],\n",
       "       [1.14910182e-11, 1.00781605e-07, 1.98260921e-07, 9.99999642e-01],\n",
       "       [3.08335759e-04, 9.97611761e-01, 4.92893974e-04, 1.58705015e-03],\n",
       "       [8.88864875e-01, 7.68650398e-02, 3.05521246e-02, 3.71795194e-03],\n",
       "       [5.07060804e-06, 9.98052716e-01, 2.30615988e-04, 1.71163073e-03],\n",
       "       [1.16155438e-01, 3.21352407e-02, 8.20126057e-01, 3.15831602e-02],\n",
       "       [1.74139887e-02, 2.13997379e-01, 7.61369109e-01, 7.21951202e-03],\n",
       "       [1.03418718e-09, 9.90489244e-01, 5.15591062e-04, 8.99507385e-03],\n",
       "       [1.01617381e-01, 4.43557240e-02, 8.45332921e-01, 8.69390462e-03],\n",
       "       [1.51026212e-02, 8.05723891e-02, 9.02971029e-01, 1.35401159e-03],\n",
       "       [4.95823474e-18, 3.66569358e-10, 1.74868227e-08, 1.00000000e+00],\n",
       "       [1.77455481e-11, 9.99998331e-01, 1.24578014e-06, 4.62685335e-07],\n",
       "       [4.09819148e-02, 1.26322299e-01, 1.53145030e-01, 6.79550707e-01],\n",
       "       [3.51608366e-01, 5.50302625e-01, 9.97148454e-04, 9.70918611e-02],\n",
       "       [2.25124211e-04, 4.12416877e-03, 2.08762176e-02, 9.74774480e-01],\n",
       "       [9.15910482e-01, 1.30536398e-02, 4.63115759e-02, 2.47242302e-02],\n",
       "       [1.55481503e-05, 2.04884168e-03, 1.18657842e-03, 9.96749043e-01],\n",
       "       [9.11011755e-01, 4.44921404e-02, 8.60774145e-03, 3.58883776e-02],\n",
       "       [7.45417252e-02, 2.52256095e-01, 5.53234637e-01, 1.19967587e-01],\n",
       "       [1.46108493e-01, 2.11741656e-01, 1.65341794e-02, 6.25615656e-01],\n",
       "       [1.00653690e-08, 3.10088605e-01, 7.94495195e-02, 6.10461831e-01],\n",
       "       [2.51764321e-09, 9.98956561e-01, 8.22285539e-04, 2.21167677e-04],\n",
       "       [8.16468499e-04, 8.21535707e-01, 9.77122486e-02, 7.99355954e-02],\n",
       "       [8.38437319e-01, 2.45826934e-02, 1.27856106e-01, 9.12384130e-03],\n",
       "       [2.63631523e-06, 4.43323719e-04, 1.09657609e-04, 9.99444306e-01],\n",
       "       [1.08567037e-04, 7.05763251e-02, 6.76314859e-03, 9.22551930e-01],\n",
       "       [8.19467425e-01, 7.35701174e-02, 8.63236338e-02, 2.06387918e-02],\n",
       "       [5.92121272e-04, 4.70411312e-03, 9.93474185e-01, 1.22951216e-03],\n",
       "       [2.09194102e-08, 9.60743023e-08, 8.93549441e-05, 9.99910474e-01],\n",
       "       [1.77219219e-04, 9.87158477e-01, 1.24655655e-02, 1.98700931e-04],\n",
       "       [8.40559661e-01, 4.97478470e-02, 1.03928037e-01, 5.76442946e-03],\n",
       "       [5.67972779e-01, 5.14557660e-02, 3.46746087e-01, 3.38253565e-02],\n",
       "       [6.48300511e-06, 9.99964476e-01, 1.41178716e-05, 1.49514144e-05],\n",
       "       [1.04620585e-05, 1.47154927e-01, 4.03785903e-04, 8.52430820e-01],\n",
       "       [9.27248657e-01, 1.49224997e-02, 5.10935560e-02, 6.73526386e-03],\n",
       "       [5.13544888e-04, 9.98515069e-01, 8.74870690e-04, 9.65588697e-05],\n",
       "       [8.24719318e-04, 9.98553574e-01, 3.15073761e-04, 3.06611124e-04],\n",
       "       [1.66481286e-02, 1.59880638e-01, 4.28137094e-01, 3.95334244e-01],\n",
       "       [6.67776883e-01, 2.34981135e-01, 5.73741924e-03, 9.15045813e-02],\n",
       "       [9.38000321e-01, 1.68924779e-02, 4.15512696e-02, 3.55599215e-03],\n",
       "       [6.59941627e-24, 5.04824109e-18, 1.91637782e-14, 1.00000000e+00],\n",
       "       [8.04286525e-02, 6.68142289e-02, 8.45828593e-01, 6.92852773e-03],\n",
       "       [1.48284361e-02, 1.77972130e-02, 9.60340381e-01, 7.03393109e-03],\n",
       "       [2.29931335e-04, 1.71717070e-03, 2.51807389e-03, 9.95534897e-01],\n",
       "       [1.03256425e-05, 9.99880433e-01, 2.54674087e-05, 8.38441192e-05],\n",
       "       [2.60167897e-01, 7.09865868e-01, 1.71877258e-02, 1.27785476e-02],\n",
       "       [9.71213740e-04, 9.96483326e-01, 1.10299117e-03, 1.44249795e-03],\n",
       "       [8.57864976e-01, 6.33423179e-02, 5.89865968e-02, 1.98060479e-02]],\n",
       "      dtype=float32)"
      ]
     },
     "execution_count": 17,
     "metadata": {},
     "output_type": "execute_result"
    }
   ],
   "source": [
    "y_pred"
   ]
  },
  {
   "cell_type": "code",
   "execution_count": 18,
   "id": "d660ee42",
   "metadata": {},
   "outputs": [],
   "source": [
    "import numpy as np\n",
    "y_pred = np.argmax(y_pred, axis=1)"
   ]
  },
  {
   "cell_type": "code",
   "execution_count": 19,
   "id": "51d55204",
   "metadata": {},
   "outputs": [
    {
     "data": {
      "text/plain": [
       "array([3, 2, 3, 0, 2, 1, 1, 1, 0, 3, 3, 1, 2, 0, 3, 3, 2, 0, 1, 2, 0, 1,\n",
       "       1, 3, 1, 2, 0, 1, 1, 2, 1, 1, 0, 2, 2, 2, 3, 1, 3, 0, 3, 3, 3, 0,\n",
       "       3, 3, 1, 2, 3, 0, 3, 3, 3, 1, 2, 0, 0, 1, 2, 1, 1, 1, 0, 1, 3, 1,\n",
       "       3, 2, 0, 2, 0, 0, 2, 3, 1, 0, 1, 2, 2, 1, 2, 2, 3, 1, 3, 1, 3, 0,\n",
       "       3, 0, 2, 3, 3, 1, 1, 0, 3, 3, 0, 2, 3, 1, 0, 0, 1, 3, 0, 1, 1, 2,\n",
       "       0, 0, 3, 2, 2, 3, 1, 1, 1, 0], dtype=int64)"
      ]
     },
     "execution_count": 19,
     "metadata": {},
     "output_type": "execute_result"
    }
   ],
   "source": [
    "y_pred"
   ]
  },
  {
   "cell_type": "code",
   "execution_count": 34,
   "id": "88a73cd6",
   "metadata": {},
   "outputs": [],
   "source": [
    "from tensorflow.keras.models import load_model\n",
    "from tensorflow.keras.preprocessing import image"
   ]
  },
  {
   "cell_type": "code",
   "execution_count": 35,
   "id": "a70de1ee",
   "metadata": {},
   "outputs": [],
   "source": [
    "model = load_model('model_resnet50.h5')"
   ]
  },
  {
   "cell_type": "code",
   "execution_count": 42,
   "id": "9eb89cdc",
   "metadata": {},
   "outputs": [
    {
     "data": {
      "text/plain": [
       "array([[[[-103.13508 , -116.343704, -123.295685],\n",
       "         [-103.11939 , -116.33586 , -123.28784 ],\n",
       "         [-103.11939 , -116.33586 , -123.28784 ],\n",
       "         ...,\n",
       "         [-103.24097 , -116.32802 , -122.985886],\n",
       "         [-103.24489 , -116.33194 , -122.98981 ],\n",
       "         [-103.24489 , -116.33194 , -122.98981 ]],\n",
       "\n",
       "        [[-103.14292 , -116.35155 , -123.30353 ],\n",
       "         [-103.139   , -116.347626, -123.29961 ],\n",
       "         [-103.13116 , -116.347626, -123.29961 ],\n",
       "         ...,\n",
       "         [-103.23312 , -116.320175, -122.97804 ],\n",
       "         [-103.237045, -116.3241  , -122.981964],\n",
       "         [-103.24097 , -116.32802 , -122.985886]],\n",
       "\n",
       "        [[-103.16253 , -116.36331 , -123.30745 ],\n",
       "         [-103.14684 , -116.35939 , -123.29961 ],\n",
       "         [-103.14292 , -116.35547 , -123.295685],\n",
       "         ...,\n",
       "         [-103.22528 , -116.30057 , -122.96236 ],\n",
       "         [-103.23312 , -116.30841 , -122.9702  ],\n",
       "         [-103.24489 , -116.320175, -122.981964]],\n",
       "\n",
       "        ...,\n",
       "\n",
       "        [[-102.939   , -115.779   , -122.68    ],\n",
       "         [-102.939   , -115.779   , -122.68    ],\n",
       "         [-102.939   , -115.779   , -122.68    ],\n",
       "         ...,\n",
       "         [-102.939   , -115.779   , -122.68    ],\n",
       "         [-102.939   , -115.779   , -122.68    ],\n",
       "         [-102.939   , -115.779   , -122.68    ]],\n",
       "\n",
       "        [[-102.939   , -115.779   , -122.68    ],\n",
       "         [-102.939   , -115.779   , -122.68    ],\n",
       "         [-102.939   , -115.779   , -122.68    ],\n",
       "         ...,\n",
       "         [-102.939   , -115.779   , -122.68    ],\n",
       "         [-102.939   , -115.779   , -122.68    ],\n",
       "         [-102.939   , -115.779   , -122.68    ]],\n",
       "\n",
       "        [[-102.939   , -115.779   , -122.68    ],\n",
       "         [-102.939   , -115.779   , -122.68    ],\n",
       "         [-102.939   , -115.779   , -122.68    ],\n",
       "         ...,\n",
       "         [-102.939   , -115.779   , -122.68    ],\n",
       "         [-102.939   , -115.779   , -122.68    ],\n",
       "         [-102.939   , -115.779   , -122.68    ]]]], dtype=float32)"
      ]
     },
     "execution_count": 42,
     "metadata": {},
     "output_type": "execute_result"
    }
   ],
   "source": [
    "img_data"
   ]
  },
  {
   "cell_type": "code",
   "execution_count": 37,
   "id": "8397fe42",
   "metadata": {},
   "outputs": [],
   "source": [
    "from tensorflow.keras.preprocessing import image\n",
    "\n",
    "img = image.load_img('Photo_data/Test/Pink Sky/pastel-color-pink-purple-sky-260nw-310237601.jpg', target_size=(224, 224))\n"
   ]
  },
  {
   "cell_type": "code",
   "execution_count": 38,
   "id": "1f41826e",
   "metadata": {},
   "outputs": [
    {
     "data": {
      "text/plain": [
       "array([[[ 98., 111., 205.],\n",
       "        [100., 113., 209.],\n",
       "        [100., 113., 209.],\n",
       "        ...,\n",
       "        [177., 115., 178.],\n",
       "        [176., 114., 177.],\n",
       "        [176., 114., 177.]],\n",
       "\n",
       "       [[ 96., 109., 203.],\n",
       "        [ 97., 110., 204.],\n",
       "        [ 97., 110., 206.],\n",
       "        ...,\n",
       "        [179., 117., 180.],\n",
       "        [178., 116., 179.],\n",
       "        [177., 115., 178.]],\n",
       "\n",
       "       [[ 95., 106., 198.],\n",
       "        [ 97., 107., 202.],\n",
       "        [ 98., 108., 203.],\n",
       "        ...,\n",
       "        [183., 122., 182.],\n",
       "        [181., 120., 180.],\n",
       "        [178., 117., 177.]],\n",
       "\n",
       "       ...,\n",
       "\n",
       "       [[255., 255., 255.],\n",
       "        [255., 255., 255.],\n",
       "        [255., 255., 255.],\n",
       "        ...,\n",
       "        [255., 255., 255.],\n",
       "        [255., 255., 255.],\n",
       "        [255., 255., 255.]],\n",
       "\n",
       "       [[255., 255., 255.],\n",
       "        [255., 255., 255.],\n",
       "        [255., 255., 255.],\n",
       "        ...,\n",
       "        [255., 255., 255.],\n",
       "        [255., 255., 255.],\n",
       "        [255., 255., 255.]],\n",
       "\n",
       "       [[255., 255., 255.],\n",
       "        [255., 255., 255.],\n",
       "        [255., 255., 255.],\n",
       "        ...,\n",
       "        [255., 255., 255.],\n",
       "        [255., 255., 255.],\n",
       "        [255., 255., 255.]]], dtype=float32)"
      ]
     },
     "execution_count": 38,
     "metadata": {},
     "output_type": "execute_result"
    }
   ],
   "source": [
    "x = image.img_to_array(img)\n",
    "x"
   ]
  },
  {
   "cell_type": "code",
   "execution_count": 39,
   "id": "65634c26",
   "metadata": {},
   "outputs": [
    {
     "data": {
      "text/plain": [
       "(224, 224, 3)"
      ]
     },
     "execution_count": 39,
     "metadata": {},
     "output_type": "execute_result"
    }
   ],
   "source": [
    "x.shape"
   ]
  },
  {
   "cell_type": "code",
   "execution_count": 40,
   "id": "384690c5",
   "metadata": {},
   "outputs": [],
   "source": [
    "x=x/255"
   ]
  },
  {
   "cell_type": "code",
   "execution_count": 41,
   "id": "ffed070a",
   "metadata": {},
   "outputs": [
    {
     "data": {
      "text/plain": [
       "(1, 224, 224, 3)"
      ]
     },
     "execution_count": 41,
     "metadata": {},
     "output_type": "execute_result"
    }
   ],
   "source": [
    "x=np.expand_dims(x,axis=0)\n",
    "img_data=preprocess_input(x)\n",
    "img_data.shape"
   ]
  },
  {
   "cell_type": "code",
   "execution_count": 43,
   "id": "1d458f8e",
   "metadata": {},
   "outputs": [
    {
     "name": "stdout",
     "output_type": "stream",
     "text": [
      "1/1 [==============================] - 7s 7s/step\n"
     ]
    },
    {
     "data": {
      "text/plain": [
       "array([[8.8395896e-24, 2.7832217e-15, 4.9025656e-10, 1.0000000e+00]],\n",
       "      dtype=float32)"
      ]
     },
     "execution_count": 43,
     "metadata": {},
     "output_type": "execute_result"
    }
   ],
   "source": [
    "model.predict(img_data)"
   ]
  },
  {
   "cell_type": "code",
   "execution_count": 44,
   "id": "8e86da48",
   "metadata": {},
   "outputs": [
    {
     "name": "stdout",
     "output_type": "stream",
     "text": [
      "1/1 [==============================] - 0s 226ms/step\n"
     ]
    }
   ],
   "source": [
    "a=np.argmax(model.predict(img_data), axis=1)"
   ]
  },
  {
   "cell_type": "code",
   "execution_count": 45,
   "id": "8b43917d",
   "metadata": {},
   "outputs": [
    {
     "data": {
      "text/plain": [
       "array([False])"
      ]
     },
     "execution_count": 45,
     "metadata": {},
     "output_type": "execute_result"
    }
   ],
   "source": [
    "a==1"
   ]
  },
  {
   "cell_type": "code",
   "execution_count": null,
   "id": "445bbbe9",
   "metadata": {},
   "outputs": [],
   "source": []
  }
 ],
 "metadata": {
  "kernelspec": {
   "display_name": "Python 3 (ipykernel)",
   "language": "python",
   "name": "python3"
  },
  "language_info": {
   "codemirror_mode": {
    "name": "ipython",
    "version": 3
   },
   "file_extension": ".py",
   "mimetype": "text/x-python",
   "name": "python",
   "nbconvert_exporter": "python",
   "pygments_lexer": "ipython3",
   "version": "3.10.10"
  }
 },
 "nbformat": 4,
 "nbformat_minor": 5
}
